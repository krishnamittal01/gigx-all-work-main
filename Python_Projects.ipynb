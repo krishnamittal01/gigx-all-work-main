{
  "cells": [
    {
      "cell_type": "markdown",
      "metadata": {
        "id": "view-in-github",
        "colab_type": "text"
      },
      "source": [
        "<a href=\"https://colab.research.google.com/github/krishnamittal01/gigx-all-work-main/blob/main/Python_Projects.ipynb\" target=\"_parent\"><img src=\"https://colab.research.google.com/assets/colab-badge.svg\" alt=\"Open In Colab\"/></a>"
      ]
    },
    {
      "cell_type": "markdown",
      "metadata": {
        "id": "ErbUmW9309gK"
      },
      "source": [
        "**DICE ROLLING**"
      ]
    },
    {
      "cell_type": "code",
      "execution_count": null,
      "metadata": {
        "colab": {
          "background_save": true,
          "base_uri": "https://localhost:8080/"
        },
        "id": "1DlJDjk21Cpw",
        "outputId": "413d016b-1d9b-4dc3-d5e6-e05aad563d7a"
      },
      "outputs": [
        {
          "name": "stdout",
          "output_type": "stream",
          "text": [
            "2,3\n",
            "4,3\n",
            "Thanks for playing!:\n",
            "You rolled the dice 4 times\n",
            "Thanks for playing!:\n",
            "You rolled the dice 4 times\n",
            "Thanks for playing!:\n",
            "You rolled the dice 4 times\n"
          ]
        }
      ],
      "source": [
        "import random\n",
        "count=0\n",
        "while True:\n",
        "  choose=input(\"You wanna role a dice?? (Y/N) :\") .lower()\n",
        "  if choose=='y':\n",
        "    die_1=random.randint(1,6)\n",
        "    count+=1\n",
        "    die_2=random.randint(1,6)\n",
        "    count+=1\n",
        "    print(f'{die_1},{die_2}')\n",
        "  elif choose=='n':\n",
        "    print(\"Thanks for playing!:\")\n",
        "    print(f\"You rolled the dice {count} times :\")\n",
        "    break\n",
        "  else:\n",
        "    print(\"Invalid Choice please try again\")\n"
      ]
    },
    {
      "cell_type": "markdown",
      "metadata": {
        "id": "wW0XFEIa8T7U"
      },
      "source": [
        "**Number guessing game**"
      ]
    },
    {
      "cell_type": "code",
      "execution_count": null,
      "metadata": {
        "colab": {
          "base_uri": "https://localhost:8080/"
        },
        "id": "aTCOVYAM94GH",
        "outputId": "25fbc594-c39e-45bb-edb6-f6e8a20fa5c0"
      },
      "outputs": [
        {
          "name": "stdout",
          "output_type": "stream",
          "text": [
            "Enter the number between 1 to 100 :10\n",
            "Number is too small please guess a larger number!!: \n",
            "Enter the number between 1 to 100 :50\n",
            " Number is too large please guess a smaller number!: \n",
            "Enter the number between 1 to 100 :40\n",
            " Number is too large please guess a smaller number!: \n",
            "Enter the number between 1 to 100 :30\n",
            " Number is too large please guess a smaller number!: \n",
            "Enter the number between 1 to 100 :20\n",
            "20 congrats!! the number is correct\n",
            "You guessed the number in 9 times\n",
            "Thanks for playing!!!\n"
          ]
        }
      ],
      "source": [
        "import random\n",
        "count=0\n",
        "number=random.randint(1,100)\n",
        "while True:\n",
        "  guess=int(input(\"Enter the number between 1 to 100 :\"))\n",
        "  count+=1\n",
        "  if guess>number:\n",
        "      print(\" Number is too large please guess a smaller number!: \")\n",
        "      count+=1\n",
        "  elif guess<number:\n",
        "      print(\"Number is too small please guess a larger number!!: \")\n",
        "      count+=1\n",
        "  elif guess==number:\n",
        "      print(f'{guess} congrats!! the number is correct')\n",
        "      print(f\"You guessed the number in {count} times\")\n",
        "      print(\"Thanks for playing!!!\")\n",
        "\n",
        "      break\n",
        "  else:\n",
        "     print(\"Invalid Choice please try again!!\")\n",
        "\n",
        "\n",
        "\n",
        "\n"
      ]
    },
    {
      "cell_type": "markdown",
      "metadata": {
        "id": "p4UGxfWhDriR"
      },
      "source": [
        "**QR GENERATOR**"
      ]
    },
    {
      "cell_type": "code",
      "execution_count": null,
      "metadata": {
        "colab": {
          "base_uri": "https://localhost:8080/"
        },
        "id": "wNmfN8YwBJwp",
        "outputId": "b40d1660-c607-48ef-9f84-adb18c5e323a"
      },
      "outputs": [
        {
          "name": "stdout",
          "output_type": "stream",
          "text": [
            "Collecting qrcode\n",
            "  Downloading qrcode-8.1-py3-none-any.whl.metadata (17 kB)\n",
            "Downloading qrcode-8.1-py3-none-any.whl (45 kB)\n",
            "\u001b[?25l   \u001b[90m━━━━━━━━━━━━━━━━━━━━━━━━━━━━━━━━━━━━━━━━\u001b[0m \u001b[32m0.0/45.7 kB\u001b[0m \u001b[31m?\u001b[0m eta \u001b[36m-:--:--\u001b[0m\r\u001b[2K   \u001b[90m━━━━━━━━━━━━━━━━━━━━━━━━━━━━━━━━━━━━━━━━\u001b[0m \u001b[32m45.7/45.7 kB\u001b[0m \u001b[31m4.1 MB/s\u001b[0m eta \u001b[36m0:00:00\u001b[0m\n",
            "\u001b[?25hInstalling collected packages: qrcode\n",
            "Successfully installed qrcode-8.1\n"
          ]
        }
      ],
      "source": [
        "pip install qrcode"
      ]
    },
    {
      "cell_type": "code",
      "execution_count": null,
      "metadata": {
        "id": "Jc1CfjHPGfLw"
      },
      "outputs": [],
      "source": [
        "import qrcode"
      ]
    },
    {
      "cell_type": "code",
      "execution_count": null,
      "metadata": {
        "colab": {
          "base_uri": "https://localhost:8080/"
        },
        "id": "XpnJLZ67GtMo",
        "outputId": "6e57bdf5-a0ee-4e59-bb8e-b6f127f2140e"
      },
      "outputs": [
        {
          "name": "stdout",
          "output_type": "stream",
          "text": [
            "Enter the text or URL :https://cet.iitp.ac.in/index.php/e-gymkhana\n",
            "Enter the file name :iitp\n",
            "QR code saved as iitp \n"
          ]
        }
      ],
      "source": [
        "data=input(\"Enter the text or URL :\").strip()\n",
        "file_name=input(\"Enter the file name :\").strip()\n",
        "qr=qrcode.QRCode(box_size=10,border=4)\n",
        "qr.add_data(data)\n",
        "image=qr.make_image(fill_color='black',back_color='white')\n",
        "image.save(file_name)\n",
        "print(f\"QR code saved as {file_name} \")"
      ]
    },
    {
      "cell_type": "code",
      "execution_count": null,
      "metadata": {
        "id": "xn9C4dcIISWQ"
      },
      "outputs": [],
      "source": []
    }
  ],
  "metadata": {
    "colab": {
      "provenance": [],
      "authorship_tag": "ABX9TyMerFFAvjmPd9oG0aiwtt8k",
      "include_colab_link": true
    },
    "kernelspec": {
      "display_name": "Python 3",
      "name": "python3"
    },
    "language_info": {
      "name": "python"
    }
  },
  "nbformat": 4,
  "nbformat_minor": 0
}